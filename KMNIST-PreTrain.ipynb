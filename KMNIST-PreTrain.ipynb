{
 "cells": [
  {
   "cell_type": "markdown",
   "metadata": {},
   "source": [
    "# ACGANに入れる前にDiscriminatorをpretrainしてみる"
   ]
  },
  {
   "cell_type": "markdown",
   "metadata": {},
   "source": [
    "## 必要なmodule"
   ]
  },
  {
   "cell_type": "code",
   "execution_count": 1,
   "metadata": {},
   "outputs": [],
   "source": [
    "import torch\n",
    "import torch.nn as nn\n",
    "import torch.nn.functional as F\n",
    "import torch.optim as optim\n",
    "import torchvision\n",
    "import torchvision.transforms as transforms\n",
    "import numpy as np\n",
    "import matplotlib.pyplot as plt\n",
    "import time\n",
    "import random"
   ]
  },
  {
   "cell_type": "markdown",
   "metadata": {},
   "source": [
    "## データの前処理"
   ]
  },
  {
   "cell_type": "code",
   "execution_count": 2,
   "metadata": {},
   "outputs": [],
   "source": [
    "class Transform(object):\n",
    "    def __init__(self):\n",
    "        pass\n",
    "    \n",
    "    def __call__(self, sample):\n",
    "        sample = np.array(sample, dtype = np.float32)\n",
    "        sample = torch.tensor(sample)\n",
    "        return (sample/127.5)-1\n",
    "    \n",
    "transform = Transform()"
   ]
  },
  {
   "cell_type": "markdown",
   "metadata": {},
   "source": [
    "## Datasetの定義"
   ]
  },
  {
   "cell_type": "code",
   "execution_count": 3,
   "metadata": {},
   "outputs": [],
   "source": [
    "from tqdm import tqdm\n",
    "\n",
    "class dataset_full(torch.utils.data.Dataset):\n",
    "    \n",
    "    def __init__(self, img, label, transform=None):\n",
    "        self.transform = transform\n",
    "        self.data_num = len(img)\n",
    "        self.data = []\n",
    "        self.label = []\n",
    "        for i in tqdm(range(self.data_num)):\n",
    "            self.data.append([img[i]])\n",
    "            self.label.append(label[i]) #同じ実装で動くようにラベルを0～9に振り直す\n",
    "        self.data_num = len(self.data)\n",
    "            \n",
    "    def __len__(self):\n",
    "        return self.data_num\n",
    "    \n",
    "    def __getitem__(self, idx):\n",
    "        out_data = self.data[idx]\n",
    "        out_label = np.identity(49)[self.label[idx]]\n",
    "        out_label = np.array(out_label, dtype = np.float32)\n",
    "        \n",
    "        if self.transform:\n",
    "            out_data = self.transform(out_data)\n",
    "            \n",
    "        return out_data, out_label"
   ]
  },
  {
   "cell_type": "markdown",
   "metadata": {},
   "source": [
    "## バイナリファイルからDLしてDatasetにする"
   ]
  },
  {
   "cell_type": "code",
   "execution_count": 4,
   "metadata": {},
   "outputs": [
    {
     "name": "stderr",
     "output_type": "stream",
     "text": [
      "100%|██████████| 232365/232365 [00:00<00:00, 1038917.40it/s]\n",
      "100%|██████████| 38547/38547 [00:00<00:00, 1628995.83it/s]"
     ]
    },
    {
     "name": "stdout",
     "output_type": "stream",
     "text": [
      "232365\n",
      "38547\n"
     ]
    },
    {
     "name": "stderr",
     "output_type": "stream",
     "text": [
      "\n"
     ]
    }
   ],
   "source": [
    "path = %pwd\n",
    "train_img = np.load('{}/k49-train-imgs.npz'.format(path))\n",
    "train_img = train_img['arr_0']\n",
    "train_label = np.load('{}/k49-train-labels.npz'.format(path))\n",
    "train_label = train_label['arr_0']\n",
    "\n",
    "test_img = np.load('{}/k49-test-imgs.npz'.format(path))\n",
    "test_img = test_img['arr_0']\n",
    "test_label = np.load('{}/k49-test-labels.npz'.format(path))\n",
    "test_label = test_label['arr_0']\n",
    "\n",
    "train_data = dataset_full(train_img, train_label, transform=transform)\n",
    "print(len(train_data))\n",
    "test_data = dataset_full(test_img, test_label, transform=transform)\n",
    "print(len(test_data))"
   ]
  },
  {
   "cell_type": "markdown",
   "metadata": {},
   "source": [
    "## Dataloaderを作成"
   ]
  },
  {
   "cell_type": "code",
   "execution_count": 5,
   "metadata": {},
   "outputs": [],
   "source": [
    "batch_size = 256\n",
    "\n",
    "train_loader = torch.utils.data.DataLoader(train_data, batch_size = batch_size, shuffle = True, num_workers = 6)\n",
    "\n",
    "test_loader = torch.utils.data.DataLoader(test_data, batch_size = batch_size, shuffle = True, num_workers = 6)"
   ]
  },
  {
   "cell_type": "markdown",
   "metadata": {},
   "source": [
    "## Discriminatorの定義"
   ]
  },
  {
   "cell_type": "code",
   "execution_count": 6,
   "metadata": {},
   "outputs": [],
   "source": [
    "class Discriminator(nn.Module):\n",
    "    def __init__(self, num_class):\n",
    "        super(Discriminator, self).__init__()\n",
    "        self.num_class = num_class\n",
    "        \n",
    "        self.conv = nn.Sequential(\n",
    "            nn.Conv2d(1, 64, kernel_size=4, stride=2, padding=1), #入力は1チャネル(白黒だから), フィルターの数64, フィルターのサイズ4*4\n",
    "            nn.LeakyReLU(0.2),\n",
    "            nn.Conv2d(64, 128, kernel_size=4, stride=2, padding=1),\n",
    "            nn.LeakyReLU(0.2),\n",
    "            nn.BatchNorm2d(128),\n",
    "        )\n",
    "        \n",
    "        self.fc = nn.Sequential(\n",
    "            nn.Linear(128 * 7 * 7, 1024),\n",
    "            nn.BatchNorm1d(1024),\n",
    "            nn.LeakyReLU(0.2),\n",
    "        )\n",
    "        \n",
    "        self.fc_TF = nn.Sequential(\n",
    "            nn.Linear(1024, 1),\n",
    "            nn.Sigmoid(),\n",
    "        )\n",
    "        \n",
    "        self.fc_class = nn.Sequential(\n",
    "            nn.Linear(1024, num_class),\n",
    "            nn.LogSoftmax(dim=1),\n",
    "        )\n",
    "        \n",
    "        self.init_weights()\n",
    "        \n",
    "    def init_weights(self):\n",
    "        for module in self.modules():\n",
    "            if isinstance(module, nn.Conv2d):\n",
    "                module.weight.data.normal_(0, 0.02)\n",
    "                module.bias.data.zero_()\n",
    "            elif isinstance(module, nn.Linear):\n",
    "                module.weight.data.normal_(0, 0.02)\n",
    "                module.bias.data.zero_()\n",
    "            elif isinstance(module, nn.BatchNorm1d):\n",
    "                module.weight.data.normal_(1.0, 0.02)\n",
    "                module.bias.data.zero_()\n",
    "            elif isinstance(module, nn.BatchNorm2d):\n",
    "                module.weight.data.normal_(1.0, 0.02)\n",
    "                module.bias.data.zero_()\n",
    "        \n",
    "    def forward(self, img):\n",
    "        x = self.conv(img)\n",
    "        x = x.view(-1, 128 * 7 * 7)\n",
    "        x = self.fc(x)\n",
    "        x_TF = self.fc_TF(x)\n",
    "        x_class = self.fc_class(x)\n",
    "        return x_TF, x_class"
   ]
  },
  {
   "cell_type": "markdown",
   "metadata": {},
   "source": [
    "## 1エポックごとに計算する関数を定義"
   ]
  },
  {
   "cell_type": "code",
   "execution_count": 7,
   "metadata": {},
   "outputs": [],
   "source": [
    "#device\n",
    "device = torch.device(\"cuda\" if torch.cuda.is_available() else \"cpu\")\n",
    "\n",
    "def train_func(D_model, batch_size, criterion, train_loader, optimizer, scheduler):\n",
    "    D_model.train()\n",
    "    train_loss = 0\n",
    "    train_acc = 0\n",
    "    \n",
    "    for batch_idx, (imgs, labels) in enumerate(train_loader):\n",
    "        if imgs.size()[0] != batch_size:\n",
    "            break\n",
    "            \n",
    "        img, label = imgs.to(device), labels.to(device)\n",
    "        \n",
    "        #勾配の初期化\n",
    "        optimizer.zero_grad()\n",
    "        \n",
    "        #順伝播\n",
    "        TF_output, class_output = D_model(img)\n",
    "        \n",
    "        #loss計算\n",
    "        CEE_label = torch.max(label, 1)[1].to(device)\n",
    "        class_loss = criterion(class_output, CEE_label)\n",
    "        \n",
    "        #逆伝播\n",
    "        class_loss.backward()\n",
    "        \n",
    "        #optimizer更新\n",
    "        optimizer.step()\n",
    "        \n",
    "        #train_lossとaccを蓄積\n",
    "        train_loss += class_loss.item()\n",
    "        train_acc += (class_output.argmax(dim=1) == label.argmax(dim=1)).sum().item()\n",
    "        \n",
    "    if scheduler != 'None':\n",
    "        scheduler.step()\n",
    "        \n",
    "    return train_loss/len(train_loader), train_acc/(batch_size * len(train_loader))\n",
    "\n",
    "def val_func(D_model, batch_size, criterion, val_loader):\n",
    "    D_model.eval()\n",
    "    val_loss = 0\n",
    "    val_acc = 0\n",
    "    \n",
    "    with torch.no_grad():\n",
    "        for imgs, labels in val_loader:\n",
    "            img, label = imgs.to(device), labels.to(device)\n",
    "            \n",
    "            #順伝播\n",
    "            TF_output, class_output = D_model(img)\n",
    "            \n",
    "            #loss計算\n",
    "            CEE_label = torch.max(label, 1)[1].to(device)\n",
    "            class_loss = criterion(class_output, CEE_label)\n",
    "            \n",
    "            #val_lossとaccを蓄積\n",
    "            val_loss += class_loss.item()\n",
    "            val_acc += (class_output.argmax(1) == label.argmax(1)).sum().item()\n",
    "            \n",
    "    return val_loss/len(val_loader), val_acc/(batch_size * len(val_loader))"
   ]
  },
  {
   "cell_type": "markdown",
   "metadata": {},
   "source": [
    "## モデルをエポックごとに計算し、結果を表示"
   ]
  },
  {
   "cell_type": "code",
   "execution_count": 8,
   "metadata": {},
   "outputs": [],
   "source": [
    "#再現性確保のためseed値固定\n",
    "SEED = 1111\n",
    "random.seed(SEED)\n",
    "np.random.seed(SEED) \n",
    "torch.manual_seed(SEED)\n",
    "torch.cuda.manual_seed(SEED)\n",
    "torch.backends.cudnn.deterministic = True\n",
    "\n",
    "def model_run(num_epochs, batch_size = batch_size, train_loader = train_loader, val_loader = test_loader, device = device):\n",
    "    #クラス数\n",
    "    num_class = 49\n",
    "    \n",
    "    #モデル定義\n",
    "    D_model = Discriminator(num_class).to(device)\n",
    "    \n",
    "    #loss定義\n",
    "    class_criterion = nn.NLLLoss().to(device)\n",
    "    \n",
    "    #optimizerの定義\n",
    "    D_optimizer = torch.optim.Adam(D_model.parameters(), lr=0.0002, betas=(0.5, 0.999), eps=1e-08, weight_decay=1e-5, amsgrad=False)\n",
    "\n",
    "    #shedulerの定義\n",
    "    scheduler = 'None'\n",
    "    \n",
    "    train_loss_list = []\n",
    "    val_loss_list = []\n",
    "    \n",
    "    train_acc_list = []\n",
    "    val_acc_list = []\n",
    "    \n",
    "    all_time = time.time()\n",
    "    for epoch in range(num_epochs):\n",
    "        \n",
    "        start_time = time.time()\n",
    "        train_loss, train_acc = train_func(D_model, batch_size, class_criterion, train_loader, D_optimizer, scheduler)\n",
    "        val_loss, val_acc = val_func(D_model, batch_size, class_criterion, val_loader)\n",
    "        \n",
    "        train_loss_list.append(train_loss)\n",
    "        val_loss_list.append(val_loss)\n",
    "        \n",
    "        train_acc_list.append(train_acc)\n",
    "        val_acc_list.append(val_acc)\n",
    "        \n",
    "        secs = int(time.time() - start_time)\n",
    "        mins = secs / 60\n",
    "        secs = secs % 60\n",
    "        \n",
    "        #エポックごとに結果を表示\n",
    "        print('Epoch: %d' %(epoch + 1), \" | 所要時間 %d 分 %d 秒\" %(mins, secs))\n",
    "        print(f'\\tLoss: {train_loss:.4f}(train)\\t|\\tAcc: {train_acc * 100:.1f}%(train)')\n",
    "        print(f'\\tLoss: {val_loss:.4f}(valid)\\t|\\tAcc: {val_acc * 100:.1f}%(valid)')\n",
    "\n",
    "    torch.save({\n",
    "                'epoch':num_epochs,\n",
    "                'model_state_dict':D_model.state_dict(),\n",
    "                'optimizer_state_dict':D_optimizer.state_dict(),\n",
    "                'loss':train_loss,\n",
    "            }, './pretrained_D_model_{}'.format(num_epochs))\n",
    "    return train_loss_list, val_loss_list, train_acc_list, val_acc_list"
   ]
  },
  {
   "cell_type": "code",
   "execution_count": 9,
   "metadata": {},
   "outputs": [
    {
     "name": "stdout",
     "output_type": "stream",
     "text": [
      "Epoch: 1  | 所要時間 0 分 6 秒\n",
      "\tLoss: 0.5531(train)\t|\tAcc: 86.5%(train)\n",
      "\tLoss: 0.5054(valid)\t|\tAcc: 86.5%(valid)\n",
      "Epoch: 2  | 所要時間 0 分 6 秒\n",
      "\tLoss: 0.2018(train)\t|\tAcc: 94.7%(train)\n",
      "\tLoss: 0.3757(valid)\t|\tAcc: 89.8%(valid)\n",
      "Epoch: 3  | 所要時間 0 分 6 秒\n",
      "\tLoss: 0.1381(train)\t|\tAcc: 96.3%(train)\n",
      "\tLoss: 0.3320(valid)\t|\tAcc: 91.1%(valid)\n",
      "Epoch: 4  | 所要時間 0 分 6 秒\n",
      "\tLoss: 0.1019(train)\t|\tAcc: 97.2%(train)\n",
      "\tLoss: 0.3250(valid)\t|\tAcc: 91.3%(valid)\n",
      "Epoch: 5  | 所要時間 0 分 6 秒\n",
      "\tLoss: 0.0782(train)\t|\tAcc: 97.8%(train)\n",
      "\tLoss: 0.3272(valid)\t|\tAcc: 91.3%(valid)\n",
      "Epoch: 6  | 所要時間 0 分 6 秒\n",
      "\tLoss: 0.0601(train)\t|\tAcc: 98.3%(train)\n",
      "\tLoss: 0.3131(valid)\t|\tAcc: 91.8%(valid)\n",
      "Epoch: 7  | 所要時間 0 分 6 秒\n",
      "\tLoss: 0.0480(train)\t|\tAcc: 98.6%(train)\n",
      "\tLoss: 0.3315(valid)\t|\tAcc: 91.5%(valid)\n",
      "Epoch: 8  | 所要時間 0 分 6 秒\n",
      "\tLoss: 0.0389(train)\t|\tAcc: 98.8%(train)\n",
      "\tLoss: 0.3532(valid)\t|\tAcc: 91.1%(valid)\n",
      "Epoch: 9  | 所要時間 0 分 6 秒\n",
      "\tLoss: 0.0325(train)\t|\tAcc: 99.0%(train)\n",
      "\tLoss: 0.3612(valid)\t|\tAcc: 91.1%(valid)\n",
      "Epoch: 10  | 所要時間 0 分 6 秒\n",
      "\tLoss: 0.0282(train)\t|\tAcc: 99.1%(train)\n",
      "\tLoss: 0.3545(valid)\t|\tAcc: 91.7%(valid)\n",
      "Epoch: 11  | 所要時間 0 分 6 秒\n",
      "\tLoss: 0.0252(train)\t|\tAcc: 99.2%(train)\n",
      "\tLoss: 0.3852(valid)\t|\tAcc: 91.0%(valid)\n",
      "Epoch: 12  | 所要時間 0 分 6 秒\n",
      "\tLoss: 0.0232(train)\t|\tAcc: 99.3%(train)\n",
      "\tLoss: 0.3896(valid)\t|\tAcc: 91.3%(valid)\n",
      "Epoch: 13  | 所要時間 0 分 6 秒\n",
      "\tLoss: 0.0198(train)\t|\tAcc: 99.4%(train)\n",
      "\tLoss: 0.3876(valid)\t|\tAcc: 91.3%(valid)\n",
      "Epoch: 14  | 所要時間 0 分 6 秒\n",
      "\tLoss: 0.0185(train)\t|\tAcc: 99.4%(train)\n",
      "\tLoss: 0.4078(valid)\t|\tAcc: 91.1%(valid)\n",
      "Epoch: 15  | 所要時間 0 分 6 秒\n",
      "\tLoss: 0.0171(train)\t|\tAcc: 99.4%(train)\n",
      "\tLoss: 0.3923(valid)\t|\tAcc: 91.7%(valid)\n",
      "Epoch: 16  | 所要時間 0 分 6 秒\n",
      "\tLoss: 0.0161(train)\t|\tAcc: 99.4%(train)\n",
      "\tLoss: 0.4025(valid)\t|\tAcc: 91.2%(valid)\n",
      "Epoch: 17  | 所要時間 0 分 6 秒\n",
      "\tLoss: 0.0153(train)\t|\tAcc: 99.5%(train)\n",
      "\tLoss: 0.3830(valid)\t|\tAcc: 91.8%(valid)\n",
      "Epoch: 18  | 所要時間 0 分 6 秒\n",
      "\tLoss: 0.0130(train)\t|\tAcc: 99.5%(train)\n",
      "\tLoss: 0.4219(valid)\t|\tAcc: 90.9%(valid)\n",
      "Epoch: 19  | 所要時間 0 分 6 秒\n",
      "\tLoss: 0.0126(train)\t|\tAcc: 99.6%(train)\n",
      "\tLoss: 0.3932(valid)\t|\tAcc: 91.7%(valid)\n",
      "Epoch: 20  | 所要時間 0 分 6 秒\n",
      "\tLoss: 0.0131(train)\t|\tAcc: 99.5%(train)\n",
      "\tLoss: 0.4015(valid)\t|\tAcc: 91.6%(valid)\n"
     ]
    }
   ],
   "source": [
    "train_loss_list, val_loss_list, train_acc_list, val_acc_list = model_run(20)"
   ]
  },
  {
   "cell_type": "markdown",
   "metadata": {},
   "source": [
    "## loss表示"
   ]
  },
  {
   "cell_type": "code",
   "execution_count": 10,
   "metadata": {},
   "outputs": [
    {
     "data": {
      "image/png": "[encoded data removed]",
      "text/plain": [
       "<Figure size 720x504 with 1 Axes>"
      ]
     },
     "metadata": {
      "needs_background": "light"
     },
     "output_type": "display_data"
    }
   ],
   "source": [
    "import matplotlib.pyplot as plt\n",
    "%matplotlib inline\n",
    "\n",
    "fig = plt.figure(figsize=(10,7))\n",
    "\n",
    "loss = fig.add_subplot(1,1,1)\n",
    "\n",
    "loss.plot(range(len(train_loss_list)),train_loss_list,label='train_loss',color='r', ls='-')\n",
    "loss.plot(range(len(val_loss_list)),val_loss_list,label='val_loss',color='b',ls='-')\n",
    "\n",
    "loss.set_xlabel('epoch')\n",
    "loss.set_ylabel('loss')\n",
    "loss.set_title('Discriminating loss')\n",
    "\n",
    "loss.legend()\n",
    "loss.grid()\n",
    "\n",
    "fig.show()\n"
   ]
  },
  {
   "cell_type": "code",
   "execution_count": 11,
   "metadata": {},
   "outputs": [
    {
     "data": {
      "image/png": "[encoded data removed]",
      "text/plain": [
       "<Figure size 720x504 with 1 Axes>"
      ]
     },
     "metadata": {
      "needs_background": "light"
     },
     "output_type": "display_data"
    }
   ],
   "source": [
    "import matplotlib.pyplot as plt\n",
    "%matplotlib inline\n",
    "\n",
    "fig = plt.figure(figsize=(10,7))\n",
    "\n",
    "acc = fig.add_subplot(1,1,1)\n",
    "\n",
    "acc.plot(range(len(train_acc_list)),train_acc_list,label='train_acc',color='r', ls='-')\n",
    "acc.plot(range(len(val_acc_list)),val_acc_list,label='val_acc',color='b',ls='-')\n",
    "\n",
    "acc.set_xlabel('epoch')\n",
    "acc.set_ylabel('acc')\n",
    "acc.set_title('Discriminating acc')\n",
    "\n",
    "acc.legend()\n",
    "acc.grid()\n",
    "\n",
    "fig.show()"
   ]
  },
  {
   "cell_type": "code",
   "execution_count": null,
   "metadata": {},
   "outputs": [],
   "source": []
  },
  {
   "cell_type": "code",
   "execution_count": null,
   "metadata": {},
   "outputs": [],
   "source": []
  }
 ],
 "metadata": {
  "kernelspec": {
   "display_name": "py37-yamako",
   "language": "python",
   "name": "py37-yamako"
  },
  "language_info": {
   "codemirror_mode": {
    "name": "ipython",
    "version": 3
   },
   "file_extension": ".py",
   "mimetype": "text/x-python",
   "name": "python",
   "nbconvert_exporter": "python",
   "pygments_lexer": "ipython3",
   "version": "3.7.4"
  }
 },
 "nbformat": 4,
 "nbformat_minor": 4
}
